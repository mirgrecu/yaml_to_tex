{
 "cells": [
  {
   "cell_type": "code",
   "execution_count": 64,
   "id": "51df8fcf",
   "metadata": {},
   "outputs": [],
   "source": [
    "from jinja2 import Environment, FileSystemLoader\n",
    "import yaml\n",
    "with open('resume_noaa.yaml') as f:\n",
    "    data = yaml.safe_load(f)\n",
    "\n",
    "env = Environment(loader=FileSystemLoader('.'))\n",
    "template = env.get_template('resume_template.curly')\n",
    "# Render the template with the data\n",
    "rendered_content = template.render(**data)\n",
    "\n",
    "with open('resume_output.txt', 'w') as f:\n",
    "    f.write(template.render(**data))\n"
   ]
  },
  {
   "cell_type": "code",
   "execution_count": 65,
   "id": "1c55d805",
   "metadata": {},
   "outputs": [],
   "source": [
    "with open(\"resume_output.txt\", \"r\") as f:\n",
    "    content = f.read()\n",
    "\n",
    "content = content.replace(\"left_curly\", \"{\").replace(\"right_curly\", \"}\").replace(\"_2p_\",\":\")\n",
    "\n",
    "with open(\"resume_noaa.tex\", \"w\") as f:\n",
    "    f.write(content)"
   ]
  },
  {
   "cell_type": "markdown",
   "id": "c9982859",
   "metadata": {},
   "source": [
    "['Personal Information', 'Summary','Education', 'Work Experience', 'Skills', 'Projects', 'Selected Publications']\n",
    "📌 When Might You Consider Reordering?\n",
    "Applying to product/tech companies (e.g., Google, Microsoft AI): Move Work Experience before Education to foreground practical impact.\n",
    "\n",
    "Applying to academic or research scientist roles (e.g., national labs, NASA): Keep your current order—it emphasizes your scholarly depth and mission alignment.\n",
    "\n",
    "Applying to startups or non-traditional roles: Consider putting Skills earlier if keywords matter to pass automated screening."
   ]
  },
  {
   "cell_type": "code",
   "execution_count": null,
   "id": "adca7da7",
   "metadata": {},
   "outputs": [],
   "source": []
  }
 ],
 "metadata": {
  "kernelspec": {
   "display_name": "base",
   "language": "python",
   "name": "python3"
  },
  "language_info": {
   "codemirror_mode": {
    "name": "ipython",
    "version": 3
   },
   "file_extension": ".py",
   "mimetype": "text/x-python",
   "name": "python",
   "nbconvert_exporter": "python",
   "pygments_lexer": "ipython3",
   "version": "3.12.10"
  }
 },
 "nbformat": 4,
 "nbformat_minor": 5
}
